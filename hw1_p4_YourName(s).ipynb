{
 "cells": [
  {
   "cell_type": "markdown",
   "metadata": {},
   "source": [
    "# Homework 1\n",
    "\n",
    "Name:\n",
    "\n",
    "Student ID:\n",
    "\n",
    "Partner Name:\n",
    "\n",
    "Partner Student ID:\n",
    "\n",
    "## Problem 4: Representing and Analyzing the Human Disease Network (40%)"
   ]
  },
  {
   "cell_type": "markdown",
   "metadata": {},
   "source": [
    "We will study the interactions between genes and diseases. Specifically, we will investigate different network representations and perform some analysis on those. Based on this work we could then use this network data to identify clusters of related genes (which might previously have been unknown) and to learn more about the genetic basis of certain diseases.\n",
    "\n",
    "This homework problem is inspired by the seminal paper “The Human Disease Network” (Goh et al., 2007: http://www.pnas.org/content/104/21/8685) and uses the dataset from http://www.disgenet.org/static/disgenet_ap1/files/downloads/all_gene_disease_associations.tsv.gz. \n",
    "\n",
    "> Note that the `.gz` is a zipped file. Some OS unzip this for you automatically. If not, right-click the zipped file and then select the unzip program icon from the menu. \n",
    "\n",
    "This dataset contains a list of diseases and the genes that those diseases are associated with. The source of the dataset is DisGeNET, one of the largest publicly available collections of genes and variants associated with human diseases. If you are interested in how this data was collected, check out this paper: https://academic.oup.com/nar/article/45/D1/D833/2290909.\n",
    "\n",
    "Note that reading these papers is not necessary to complete the exercise, and no prior biology knowledge is necessary."
   ]
  },
  {
   "cell_type": "markdown",
   "metadata": {},
   "source": [
    "<img src=\"HDN_DGN.png\" width=\"800\">"
   ]
  },
  {
   "cell_type": "markdown",
   "metadata": {},
   "source": [
    "### Notes and Submission Instructions: \n",
    "\n",
    "* **Libraries**: You may use available `NetworkX` (or `SNAP`) functions. \n",
    "* **Comments**: Comment your code to receive maximum credit.\n",
    "* **Number of Cells**: Do not change the number of (code or markdown) cells in this notebook. \n",
    "* **What to submit**: Only submit the `hw1_p4_YOUR_NAME(S).ipynb` - nothing else.\n",
    "\n",
    "### Imports\n",
    "\n",
    "Add more imports as you see fit. \n",
    "\n",
    "> **Note**: use networkX builtin functions. Especially checkout what's available in `networkx.algorithms.bipartite`."
   ]
  },
  {
   "cell_type": "code",
   "execution_count": null,
   "metadata": {},
   "outputs": [],
   "source": [
    "import numpy as np\n",
    "import matplotlib.pyplot as plt\n",
    "\n",
    "import networkx as nx\n",
    "from networkx.algorithms import bipartite"
   ]
  },
  {
   "cell_type": "markdown",
   "metadata": {},
   "source": [
    "### 4.1 The Bipartite Gene-Disease (*Diseasome*) Network (10%)\n",
    "\n",
    "(i) Using the dataset linked to above, construct the bipartite Gene-Disease Network using the geneId and diseaseId columns (i.e., columns 1 and 5 of the dataset). Formally, the Gene-Disease Network (**Diseasome**) can be defined as a **bipartite graph** where the nodes are the set of all diseases and genes, and there is an edge between gene x and disease y if there is an association between the two documented in the dataset.\n",
    "\n",
    "> **Hint**: If you use `SNAP`, their libraries only accept integer Node IDs, so you will need to modify the disease ID category when loading the graph. Also, make sure that there are no genes with the same ID as a disease: they are separate identification schemes in the dataset, but node IDs must be unique in `SNAP`. If there are overlapping IDs, you will lose the bipartite structure since one node will be both a disease and a gene.\n",
    "\n",
    "> **Hint**: You do **not** need a `for loop` to creat this network!! Checkout Python's `zip` function. \n",
    "\n",
    "\n",
    "**Your Program Below:** "
   ]
  },
  {
   "cell_type": "code",
   "execution_count": null,
   "metadata": {},
   "outputs": [],
   "source": [
    "# your code here \n"
   ]
  },
  {
   "cell_type": "markdown",
   "metadata": {},
   "source": [
    "(ii) Report the following statistics of the graph $G$:\n",
    "- How many nodes are there in total?\n",
    "- How many edges are there?\n",
    "\n",
    "\n",
    "**Your Program Below:** "
   ]
  },
  {
   "cell_type": "code",
   "execution_count": null,
   "metadata": {},
   "outputs": [],
   "source": [
    "# your code here \n"
   ]
  },
  {
   "cell_type": "markdown",
   "metadata": {},
   "source": [
    "(iii) How many disease nodes are there in $G$ and how many gene nodes? \n",
    "\n",
    "> **Hint**: You only need at most _one_ `for loop` (not two)! ;-) \n",
    "\n",
    "**Your Program Below:** "
   ]
  },
  {
   "cell_type": "code",
   "execution_count": null,
   "metadata": {},
   "outputs": [],
   "source": [
    "# your code here \n"
   ]
  },
  {
   "cell_type": "markdown",
   "metadata": {},
   "source": [
    "### 4.2 Exploring the Degree Distribution (10%)\n",
    "\n",
    "(i) Plot the degree distribution of genes and the degree distribution of diseases on the same plot using a `histogram` plot. Add a legend!\n",
    "\n",
    "> **Hint:** This [stackoverflow](https://stackoverflow.com/questions/6871201/plot-two-histograms-on-single-chart-with-matplotlib) post may be helpful. \n",
    "\n",
    "> **Note:** All plots should have suitable _axis labels_, a _title_, and a _legend_ if appropriate! Please keep this in mind - we won't remind you in the future.\n",
    "\n",
    "**Your Program Below:** "
   ]
  },
  {
   "cell_type": "code",
   "execution_count": null,
   "metadata": {},
   "outputs": [],
   "source": [
    "# your code here \n"
   ]
  },
  {
   "cell_type": "markdown",
   "metadata": {},
   "source": [
    "Looks like this in not a great visualization. First of all it depends on the binning and second we can't really see anything beyond maybe the statisticts for low-degree nodes. \n",
    "\n",
    "---\n",
    "**BEST PRACTICE: Avoid histogram plots!**\n",
    "\n",
    "Histogram plots are sensitive to the bin width! Better use _scatter plots_ to visualize distributions to avoid binning issues. \n",
    "\n",
    "---\n",
    "\n",
    "(ii) Plot the degree distribution of genes and the degree distribution of diseases on the same plot using a `scatter` plot (_no binning_ but exact values of degrees and their respective counts). Keep the same color coding and add the legend again!\n",
    "\n",
    "> **Grading Note:** In general we will grade **all plots** for aesthetics. In this case, play with the order of plotting the two distributions as well as transparency of the scatter dots and pick the visualization that is mose effective and clear.  \n",
    "\n",
    "\n",
    "> **Hint:** `np.unique()` might come in handy here. \n",
    "\n",
    "**Your Program Below:** "
   ]
  },
  {
   "cell_type": "code",
   "execution_count": null,
   "metadata": {},
   "outputs": [],
   "source": [
    "# your code here \n"
   ]
  },
  {
   "cell_type": "markdown",
   "metadata": {},
   "source": [
    "Better, but now we seem to notbe able to see what's going on for the lower degrees. \n",
    "\n",
    "---\n",
    "**BEST PRACTICE: Definitley avoid histogram plots on log scale!**\n",
    "\n",
    "Always use _scatter plots_ to visualize distributions when using a **log scale on the x-axis**. Histograms on an input log scale are really hard to read, since the bin widths will be different for differnt input values. That is super confusing.  \n",
    "\n",
    "---\n",
    "\n",
    "(iii) Plot the degree distribution of genes and the degree distribution of diseases on the same plot using a `scatter` plot on a **log-log scale**. Keep the same color coding and add the legend again!\n",
    "\n",
    "**Your Program Below:** "
   ]
  },
  {
   "cell_type": "code",
   "execution_count": null,
   "metadata": {},
   "outputs": [],
   "source": [
    "# your code here \n"
   ]
  },
  {
   "cell_type": "markdown",
   "metadata": {},
   "source": [
    "Nice! Let's appriciate this plot for a second. Then, ...\n",
    "\n",
    "(iv) In one to two sentences, describe one key difference between the degree distribution of the genes and the degree distributions of the diseases.\n",
    "\n",
    "**Answer:** "
   ]
  },
  {
   "cell_type": "markdown",
   "metadata": {},
   "source": [
    "**Your response here.** \n"
   ]
  },
  {
   "cell_type": "markdown",
   "metadata": {},
   "source": [
    "### 4.3 Disease Similarity in the Gene-Disease (*Diseasome*) Network (10%)\n",
    "\n",
    "Let's define two node \"similarity” measures: Common-Neighbors ($CN$) and Jaccard Index ($JA$, also known as Intersection over Union, or IoU). For two nodes $x$ and $y$, the metrics are defined as\n",
    "\n",
    "$$CN(x,y)=|\\mathcal{N}_x \\cap \\mathcal{N}_y|$$\n",
    "\n",
    "$$JA(x,y)= \\frac{|\\mathcal{N}_x \\cap \\mathcal{N}_y|}{|\\mathcal{N}_x \\cup \\mathcal{N}_y|}$$\n",
    "\n",
    "where $\\mathcal{N}_i$ is the set of neighbors of node $i$.\n",
    "\n",
    "We can apply these metrics to the Gene-Disease Network (**Diseasome**) and identify diseases that have a similar genetic basis. This further deepens our understanding of the biological basis of disease, and, clinically, could aid in both discovering new drug targets as well as identifying diseases that doctors could treat with existing drugs (e.g. a drug already on the market for disease $X$ might successfully treat disease $Y$ if $Y$ and $X$ are “similar,” since they’d have a similar genetic cause).\n",
    "\n",
    "(i) For Crohn’s Disease (diseaseID = C0010346) report the top 5 most similar diseases by both metrics as well as their scores. \n",
    "\n",
    "**Your Program Below:** "
   ]
  },
  {
   "cell_type": "code",
   "execution_count": null,
   "metadata": {},
   "outputs": [],
   "source": [
    "# your code here \n"
   ]
  },
  {
   "cell_type": "markdown",
   "metadata": {},
   "source": [
    "(ii) In 1-2 sentences, explain which metric provides a better set of similarity scores and why.\n",
    "\n",
    "> **Hint:** Think about diseases that are associcated with a large number of genes, such as certain cancers."
   ]
  },
  {
   "cell_type": "markdown",
   "metadata": {},
   "source": [
    "**Answer:** "
   ]
  },
  {
   "cell_type": "markdown",
   "metadata": {},
   "source": [
    "**Your response here.** \n"
   ]
  },
  {
   "cell_type": "markdown",
   "metadata": {},
   "source": [
    "#### Interesting Fact\n",
    "Crohn’s disease, as well its 3 most “similar” diseases, are all treatable with the *same* drug! \n",
    "\n",
    "Let's find out more about those diseases to get an idea if this could make sense. \n",
    "Here is the description of Crohn's disease: _Definition: A gastrointestinal disorder characterized by chronic inflammation involving all layers of the intestinal wall._ \n",
    "\n",
    "(ii) Look up the three most similar diseases you found with the Jaccard Index online and report their names and a short description.\n",
    "\n",
    "**Answer:** "
   ]
  },
  {
   "cell_type": "markdown",
   "metadata": {},
   "source": [
    "**Your response here.** \n"
   ]
  },
  {
   "cell_type": "markdown",
   "metadata": {},
   "source": [
    "### 4.4 The Human Disease Network (5%)\n",
    "\n",
    "The bipartite structure of the Gene-Disease Network allows us to analyze the relationships between genes or between diseases by creating a _network projection_. Let's explore the latter network representation. In the “Human Disease Network” (**HDN**), nodes represent diseases, and two diseases are connected to each other if there is at least one gene in which mutations are associated with both diseases. In other words, two nodes in the network projection are connected if they have at least one common neighbor.\n",
    "\n",
    "Formally, the **HDN** is a graph $G′(V′,E′)$ with $V′$ = the set of all diseases, and there is an edge $(i,j)$ between diseases $i$ and $j$ if there is a gene $y$ such that $(i,y) \\in G$ and $(j,y) \\in G$ (where $G$ is the original **Diseasome** network).\n",
    "\n",
    "(i) Construct the **HDN** using the definition above, and report the following statistics on the graph:\n",
    "- How many nodes are in the graph $G′$? \n",
    "- How many edges are in the graph $G′$?\n",
    "\n",
    ">**Runtime Note**: ⌛⚙️⚠️  Projecting the graph will take a long time to run in `networkX` (depending on your hardware resources **on the order of hours**) due to the graph size and the computational complexity of the algorithm. \n",
    "\n",
    "_If you're short in time, you have two options_:\n",
    "1. You can create a projection based on a sample of the diseases (say 10% of the diseases) **or** a sample of the genes (say 10% of the genes). It's up to you which one you pick, but please justify your decision. \n",
    "2. You may attempt to answer this part without actually computing the projection :-) In that case, give us an _tight_ upper bound on the number of edges in the graph $G′$.\n",
    "\n",
    "In any case report the number of nodes in the graph $G′$.\n",
    "\n",
    "**Your Program Below:** "
   ]
  },
  {
   "cell_type": "code",
   "execution_count": null,
   "metadata": {},
   "outputs": [],
   "source": [
    "# your code here \n"
   ]
  },
  {
   "cell_type": "markdown",
   "metadata": {},
   "source": [
    "In lecture we talked about dense versus sparse netowrks, where _density_ is a global graph measure. Oftentimes, we are also interested in the immediate neigborhoods of nodes. The _clustering coefficient_ measures how well the neighbors of a node are connected. This is a local measure computed for each node, and we can report the _average clustering coefficient_ as a measure for the entire graph. \n",
    "\n",
    "\n",
    "(ii) Is HDN a *dense* or *sparse* network in both the global and the local sense? Report the density and average clustering coefficient for HDN, and interpret those statistics.  "
   ]
  },
  {
   "cell_type": "code",
   "execution_count": null,
   "metadata": {},
   "outputs": [],
   "source": [
    "# Density \n",
    "\n",
    "# your code here \n"
   ]
  },
  {
   "cell_type": "markdown",
   "metadata": {},
   "source": [
    "Since computing the **exact** average clustering coefficient is computationally expensive, you can instead compute an _estimate_ over a (random) sample of 10% the nodes.\n",
    "\n",
    "> **Hint**: Again, for this task it's easiest if you use the HDN projection (or your approximation based on the sample) and built-in `networkX` functions. If you were not able to create HDN above, come up with your own implementation using the bi-partite graph or skip the code block and come up with your own careful asessment and explanation in the write-up cell. \n",
    "\n",
    ">**Runtime Note**: ⌛⚙️⚠️ Computing the clustering coefficiant will again take **on the order of hours** (depending on your hardware resources). The runtime will be higher than computing the projection itself.  \n",
    "\n",
    "**Your Program Below:** "
   ]
  },
  {
   "cell_type": "code",
   "execution_count": null,
   "metadata": {},
   "outputs": [],
   "source": [
    "# Clustering Coefficient \n",
    "\n",
    "# your code here \n"
   ]
  },
  {
   "cell_type": "markdown",
   "metadata": {},
   "source": [
    "**Answer:** "
   ]
  },
  {
   "cell_type": "markdown",
   "metadata": {},
   "source": [
    "**Your response here.** \n"
   ]
  },
  {
   "cell_type": "markdown",
   "metadata": {},
   "source": [
    "### 4.5 Cliques in the Human Disease Network (5%)\n",
    "\n",
    "While the **HDN** provides a potentially invaluable tool to analyze the relationships between human diseases, it is difficult to analyze in practice because the graph has many large *cliques*. \n",
    "> **Definition**: A $k-$*clique* is a set of $k$ fully connected nodes.  A *maximal clique* is a clique that is **not** part of a larger set of nodes that is fully conneted. \n",
    "\n",
    "(i) Answer the following questions:\n",
    "- Why do these cliques arise in **HDN**?\n",
    "- In the general case, what does the size $k_\\text{max}$ of the largest clique in the **HDN** represent? \n",
    "\n",
    "These questions should require no more than a 1-2 sentence answer each."
   ]
  },
  {
   "cell_type": "markdown",
   "metadata": {},
   "source": [
    "**Answer:** "
   ]
  },
  {
   "cell_type": "markdown",
   "metadata": {},
   "source": [
    "**Your response here.** \n"
   ]
  },
  {
   "cell_type": "markdown",
   "metadata": {},
   "source": [
    "(ii) Calculate $k_\\text{max}$ for the **HDN**.\n",
    "\n",
    "> **Hint**: Use your insight from part (i) to efficiently determine (a lower bound on) the largest clique. A brute force algorithm to find the maximal clique(s) (such as implemented in `networkX` or `SNAP`) will have a **veeeeery long runtime** ⌛⚙️⚠️ on this graph. Your code should be a one-liner (_like really one command_ plus the print statement). \n",
    "\n",
    "**Your Program Below:** "
   ]
  },
  {
   "cell_type": "code",
   "execution_count": null,
   "metadata": {},
   "outputs": [],
   "source": [
    "# your code here \n"
   ]
  },
  {
   "cell_type": "markdown",
   "metadata": {},
   "source": [
    "#### Outlook\n",
    "After computing all the maximal cliques in **HDN** we could venture on and create a *new* network that is build using the cliques as nodes (we sometime call those *supernodes*). The new, so called, *supergraph* has an edge between two (super) nodes if their corresponding cliques have at least one common node. This graph can be created using *edge contraction* (https://en.wikipedia.org/wiki/Edge_contraction).\n",
    "\n",
    "> **NOTE**: Cliques will also be useful for **community detection** later in this course: We will use maximal cliques to find *overlapping communitites* in networks."
   ]
  },
  {
   "cell_type": "markdown",
   "metadata": {},
   "source": [
    "### [optional] Calculating Distances in the HDN\n",
    "\n",
    "We often want to calculate distances in networks to help predict node similarity or determine the shortest path between two nodes. In the context of the **HDN**, we are interested in seeing whether any disease phenotypes share similar genes. Remember that a link in the **HDN** indicates a shared genetic origin between two nodes. We should aslo include weights that represent how many genes two diseases have in common (your HDN graph might not include this infomration yet). \n",
    "> Then also remeber that standard SP algorithms interpret weights as _distances_ not as _similarities_. \n",
    "\n",
    "These results can have important clinical implications on how we might treat these diseases!\n",
    "\n",
    "**Task**: Calculate all pairs shortest paths in the appropriatley weighted **HDN** and find interesting or surprising connections between diseases."
   ]
  },
  {
   "cell_type": "code",
   "execution_count": null,
   "metadata": {},
   "outputs": [],
   "source": [
    "# your code here \n"
   ]
  }
 ],
 "metadata": {
  "kernelspec": {
   "display_name": "Python 3",
   "language": "python",
   "name": "python3"
  },
  "language_info": {
   "codemirror_mode": {
    "name": "ipython",
    "version": 3
   },
   "file_extension": ".py",
   "mimetype": "text/x-python",
   "name": "python",
   "nbconvert_exporter": "python",
   "pygments_lexer": "ipython3",
   "version": "3.7.3"
  }
 },
 "nbformat": 4,
 "nbformat_minor": 2
}
