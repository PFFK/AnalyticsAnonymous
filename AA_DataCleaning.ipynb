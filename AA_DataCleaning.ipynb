{
 "cells": [
  {
   "cell_type": "markdown",
   "metadata": {},
   "source": [
    "Analytics Anonymous Data Cleaning and Validation\n",
    "\n",
    "Here in this notebook we are going to be cleaning our kaggle data set, removing outliers and preparing data for future analysis.\n"
   ]
  },
  {
   "cell_type": "code",
   "execution_count": 19,
   "metadata": {},
   "outputs": [
    {
     "name": "stdout",
     "output_type": "stream",
     "text": [
      "Warning: Looks like you're using an outdated `kagglehub` version, please consider updating (latest version: 0.3.13)\n",
      "Path to dataset files: /Users/paulfynnkuemmel/.cache/kagglehub/datasets/jacksoncrow/stock-market-dataset/versions/2\n",
      "Files in dataset: ['symbols_valid_meta.csv', 'stocks', 'etfs']\n",
      "  Nasdaq Traded Symbol                                      Security Name  \\\n",
      "0             Y      A            Agilent Technologies, Inc. Common Stock   \n",
      "1             Y     AA                    Alcoa Corporation Common Stock    \n",
      "2             Y   AAAU                       Perth Mint Physical Gold ETF   \n",
      "3             Y   AACG  ATA Creativity Global - American Depositary Sh...   \n",
      "4             Y   AADR                AdvisorShares Dorsey Wright ADR ETF   \n",
      "\n",
      "  Listing Exchange Market Category ETF  Round Lot Size Test Issue  \\\n",
      "0                N                   N           100.0          N   \n",
      "1                N                   N           100.0          N   \n",
      "2                P                   Y           100.0          N   \n",
      "3                Q               G   N           100.0          N   \n",
      "4                P                   Y           100.0          N   \n",
      "\n",
      "  Financial Status CQS Symbol NASDAQ Symbol NextShares  \n",
      "0              NaN          A             A          N  \n",
      "1              NaN         AA            AA          N  \n",
      "2              NaN       AAAU          AAAU          N  \n",
      "3                N        NaN          AACG          N  \n",
      "4              NaN       AADR          AADR          N  \n",
      "<class 'pandas.core.frame.DataFrame'>\n",
      "RangeIndex: 8049 entries, 0 to 8048\n",
      "Data columns (total 12 columns):\n",
      " #   Column            Non-Null Count  Dtype  \n",
      "---  ------            --------------  -----  \n",
      " 0   Nasdaq Traded     8049 non-null   object \n",
      " 1   Symbol            8049 non-null   object \n",
      " 2   Security Name     8049 non-null   object \n",
      " 3   Listing Exchange  8049 non-null   object \n",
      " 4   Market Category   8049 non-null   object \n",
      " 5   ETF               8049 non-null   object \n",
      " 6   Round Lot Size    8049 non-null   float64\n",
      " 7   Test Issue        8049 non-null   object \n",
      " 8   Financial Status  3383 non-null   object \n",
      " 9   CQS Symbol        4666 non-null   object \n",
      " 10  NASDAQ Symbol     8049 non-null   object \n",
      " 11  NextShares        8049 non-null   object \n",
      "dtypes: float64(1), object(11)\n",
      "memory usage: 754.7+ KB\n",
      "None\n"
     ]
    }
   ],
   "source": [
    "import kagglehub\n",
    "import os\n",
    "import pandas as pd\n",
    "\n",
    "# Download latest version\n",
    "path = kagglehub.dataset_download(\"jacksoncrow/stock-market-dataset\")\n",
    "\n",
    "print(\"Path to dataset files:\", path)\n",
    "files = os.listdir(path)\n",
    "print(\"Files in dataset:\", files)\n",
    "\n",
    "csv_path = os.path.join(path, \"symbols_valid_meta.csv\")\n",
    "\n",
    "df = pd.read_csv(csv_path)\n",
    "print(df.head())\n",
    "print(df.info())"
   ]
  },
  {
   "cell_type": "markdown",
   "metadata": {},
   "source": [
    "So, what we can see from this, including by observation through the data file, we have multiple CSVs one per each individual stock or ETF. Which means we need to make some decisions when it comes to our analysis of the data. We will be studying the concept of index inclusion/exclusion arbitrage. This occurs when the following happens, say a company is doing incredibly succesfully and is on the verge of being added to the S&P 500 index. A firm that has their own index fund or ETF that tracks this index will have to either purchase or sell large quantities of the stocks. This means that an individual stock would have large price swings and volatility around periods where it is added or removed to the index."
   ]
  }
 ],
 "metadata": {
  "kernelspec": {
   "display_name": "Python 3 (ipykernel)",
   "language": "python",
   "name": "python3"
  },
  "language_info": {
   "codemirror_mode": {
    "name": "ipython",
    "version": 3
   },
   "file_extension": ".py",
   "mimetype": "text/x-python",
   "name": "python",
   "nbconvert_exporter": "python",
   "pygments_lexer": "ipython3",
   "version": "3.12.4"
  }
 },
 "nbformat": 4,
 "nbformat_minor": 4
}
