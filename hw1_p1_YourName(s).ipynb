{
 "cells": [
  {
   "cell_type": "markdown",
   "metadata": {},
   "source": [
    "# Homework 1\n",
    "\n",
    "Name:\n",
    "\n",
    "Student ID:\n",
    "\n",
    "Partner Name:\n",
    "\n",
    "Partner Student ID:\n",
    "\n",
    "## Problem 1: Runtime across different network representations"
   ]
  },
  {
   "cell_type": "markdown",
   "metadata": {},
   "source": [
    "Let's investiage runtime for differnt graph data structures. "
   ]
  },
  {
   "cell_type": "markdown",
   "metadata": {},
   "source": [
    "### Notes and Submission Instructions: \n",
    "\n",
    "* **Libraries**: You may use available `NetworkX` (or `SNAP`) functions. \n",
    "* **Comments**: Comment your code to receive maximum credit.\n",
    "* **Number of Cells**: Do not change the number of (code or markdown) cells in this notebook. \n",
    "* **What to submit**: Your main submission is the write-up for **Problem 1** (hw0_written). Additionally, submit the `hw1_p1_YOUR_NAME(S).ipynb` (hw0_code); in case we need to verify your reasoning.\n",
    "\n",
    "### Imports\n",
    "\n",
    "Add more imports as you see fit. \n",
    "\n",
    "> **Note**: use networkX builtin functions."
   ]
  },
  {
   "cell_type": "code",
   "execution_count": null,
   "metadata": {},
   "outputs": [],
   "source": [
    "import time\n",
    "import numpy as np\n",
    "import networkx as nx"
   ]
  },
  {
   "cell_type": "markdown",
   "metadata": {},
   "source": [
    "### The Stack Overflow Network\n",
    "\n",
    "Download the StackOverflow network `stackoverflow-Java.txt` (link in the pdf). \n",
    "\n",
    "An edge (a, b) in the network means that person a endorsed an answer from person b on a Java-related question.\n",
    "\n",
    "(i) Using one of the network analysis tools above, load the StackOverflow network. Note that StackOverflow is a directed network.\n",
    "\n",
    "**Your Program Below:** \n",
    "\n"
   ]
  },
  {
   "cell_type": "code",
   "execution_count": null,
   "metadata": {},
   "outputs": [],
   "source": [
    "# your code here \n"
   ]
  },
  {
   "cell_type": "markdown",
   "metadata": {},
   "source": [
    "(ii) Report the following statistics of the graph $G$:\n",
    "- How many nodes are there in total?\n",
    "- How many edges are there?\n",
    "\n",
    "\n",
    "**Your Program Below:** "
   ]
  },
  {
   "cell_type": "code",
   "execution_count": null,
   "metadata": {},
   "outputs": [],
   "source": [
    "# your code here \n"
   ]
  },
  {
   "cell_type": "markdown",
   "metadata": {},
   "source": [
    "### Network Representation\n",
    "\n",
    "Using the StackOverflow network and networkX built in functions, create the following three representations of `G`. \n",
    "- An adjacency list\n",
    "- An edge list\n",
    "- An adjacency matrix (`numpy array`)\n",
    "\n",
    "> Note: using `nx.adjacency_matrix()` creates a scipy sparse array, which is more like an adjacency list. `numpy array` works better for dense networks and is not as good with large, sparse networks like this one. However, we will include it into the comparisonm here. \n",
    "\n",
    "**Your Program Below:** "
   ]
  },
  {
   "cell_type": "code",
   "execution_count": null,
   "metadata": {},
   "outputs": [],
   "source": [
    "start_al = time.time()\n",
    "# your code here \n",
    "\n",
    "end_al = time.time()\n",
    "print(f'Time elapsed for adjacency list: {end_al-start_al}')\n",
    "\n",
    "\n",
    "start_el = time.time()\n",
    "# your code here \n",
    "\n",
    "end_el = time.time()\n",
    "print(f'Time elapsed for edge list: {end_el-start_el}')\n",
    "\n",
    "start_am = time.time()\n",
    "# your code here \n",
    "\n",
    "end_am = time.time()\n",
    "print(f'Time elapsed for adjacency matrix (numpy/dense): {end_am-start_am}')\n",
    "\n",
    "# # scipy sparse\n",
    "# start_am = time.time()\n",
    "# adj_mat_sp = nx.adjacency_matrix(G) \n",
    "# end_am = time.time()\n",
    "# print(f'Time elapsed for adjacency matrix (scipy/sparse): {end_am-start_am}')"
   ]
  },
  {
   "cell_type": "markdown",
   "metadata": {},
   "source": [
    "### Runtime comparison (look-up)\n",
    "\n",
    "(i) For each of the three network representations, report the runtime to find the following information:\n",
    "\n",
    "User 728 endorsed answers from which other users?\n",
    "\n",
    "> Hint: An edge (a, b) in the network means that person a endorsed an answer from person b on a Java-related question.\n",
    "\n",
    "> Hint: You can use the `time.time()` function to find the system time before and after completing the task. \n",
    "\n",
    "**Your Program Below:** "
   ]
  },
  {
   "cell_type": "code",
   "execution_count": null,
   "metadata": {},
   "outputs": [],
   "source": [
    "endorsed_al = None\n",
    "endorsed_el = None\n",
    "endorsed_am = None\n",
    "\n",
    "start_al = time.time()\n",
    "# your code here \n",
    "\n",
    "end_al = time.time()\n",
    "print(endorsed_al)\n",
    "print(f'Time elapsed for adjacency list: {end_al-start_al}')\n",
    "\n",
    "start_el = time.time()\n",
    "# your code here \n",
    "\n",
    "end_el = time.time()\n",
    "print(endorsed_el)\n",
    "print(f'Time elapsed for edge list: {end_el-start_el}')\n",
    "\n",
    "\n",
    "start_am = time.time()\n",
    "# your code here \n",
    "\n",
    "end_am = time.time()\n",
    "print(endorsed_am)\n",
    "print(f'Time elapsed for adjacency matrix: {end_am-start_am}')\n",
    "\n",
    "\n",
    "# # scipy sparse\n",
    "# start_am = time.time()\n",
    "# idx = list(G.nodes()).index('728')\n",
    "# mat_row = adj_mat_sp[idx, :]\n",
    "# endorsed_am = [list(G.nodes())[i] for i in mat_row.nonzero()[1]]\n",
    "# end_am = time.time()\n",
    "# print(endorsed_am)\n",
    "# print(f'Time elapsed for adjacency matrix: {end_am-start_am}')"
   ]
  },
  {
   "cell_type": "markdown",
   "metadata": {},
   "source": [
    "### Runtime comparison (iteration)\n",
    "\n",
    "(ii) For each of the three network representations, report the runtime to find the following information:\n",
    "\n",
    "On average, each user endorsed how many other users?\n",
    "\n",
    "> Hint: An edge (a, b) in the network means that person a endorsed an answer from person b on a Java-related question.\n",
    "\n",
    "> Hint: You can use the `time.time()` function to find the system time before and after completing the task. \n",
    "\n",
    "**Your Program Below:** "
   ]
  },
  {
   "cell_type": "code",
   "execution_count": null,
   "metadata": {},
   "outputs": [],
   "source": [
    "avg_al = None\n",
    "avg_el = None\n",
    "avg_am = None\n",
    "\n",
    "start_al = time.time()\n",
    "# your code here \n",
    "\n",
    "end_al = time.time()\n",
    "print(avg_al)\n",
    "print(f'Time elapsed for adjacency list: {end_al-start_al}')\n",
    "\n",
    "start_el = time.time()\n",
    "# your code here \n",
    "\n",
    "end_el = time.time()\n",
    "print(avg_el)\n",
    "print(f'Time elapsed for edge list: {end_el-start_el}')\n",
    "\n",
    "\n",
    "start_am = time.time()\n",
    "# your code here \n",
    "\n",
    "end_am = time.time()\n",
    "print(avg_am)\n",
    "print(f'Time elapsed for adjacency matrix: {end_am-start_am}')"
   ]
  },
  {
   "cell_type": "markdown",
   "metadata": {},
   "source": [
    "### 1.5 Results (10%)\n",
    "\n",
    "In two to three sentences, interpret your results. How do your results from these trials compare to what you learned in class about each data structure?\n",
    "\n",
    "Add your answer to your write-up pdf. "
   ]
  },
  {
   "cell_type": "code",
   "execution_count": null,
   "metadata": {},
   "outputs": [],
   "source": []
  }
 ],
 "metadata": {
  "kernelspec": {
   "display_name": "Python 3",
   "language": "python",
   "name": "python3"
  },
  "language_info": {
   "codemirror_mode": {
    "name": "ipython",
    "version": 3
   },
   "file_extension": ".py",
   "mimetype": "text/x-python",
   "name": "python",
   "nbconvert_exporter": "python",
   "pygments_lexer": "ipython3",
   "version": "3.7.3"
  }
 },
 "nbformat": 4,
 "nbformat_minor": 2
}
